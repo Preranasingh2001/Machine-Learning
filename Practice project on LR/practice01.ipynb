{
 "cells": [
  {
   "cell_type": "code",
   "execution_count": 1,
   "metadata": {},
   "outputs": [],
   "source": [
    "import numpy as np\n",
    "import pandas as pd\n",
    "import matplotlib.pyplot as plt"
   ]
  },
  {
   "cell_type": "code",
   "execution_count": 2,
   "metadata": {},
   "outputs": [
    {
     "data": {
      "text/html": [
       "<div>\n",
       "<style scoped>\n",
       "    .dataframe tbody tr th:only-of-type {\n",
       "        vertical-align: middle;\n",
       "    }\n",
       "\n",
       "    .dataframe tbody tr th {\n",
       "        vertical-align: top;\n",
       "    }\n",
       "\n",
       "    .dataframe thead th {\n",
       "        text-align: right;\n",
       "    }\n",
       "</style>\n",
       "<table border=\"1\" class=\"dataframe\">\n",
       "  <thead>\n",
       "    <tr style=\"text-align: right;\">\n",
       "      <th></th>\n",
       "      <th>rated</th>\n",
       "      <th>created_at</th>\n",
       "      <th>last_move_at</th>\n",
       "      <th>turns</th>\n",
       "      <th>victory_status</th>\n",
       "      <th>winner</th>\n",
       "      <th>increment_code</th>\n",
       "      <th>white_id</th>\n",
       "      <th>white_rating</th>\n",
       "      <th>black_id</th>\n",
       "      <th>black_rating</th>\n",
       "      <th>moves</th>\n",
       "      <th>opening_eco</th>\n",
       "      <th>opening_name</th>\n",
       "      <th>opening_ply</th>\n",
       "    </tr>\n",
       "    <tr>\n",
       "      <th>id</th>\n",
       "      <th></th>\n",
       "      <th></th>\n",
       "      <th></th>\n",
       "      <th></th>\n",
       "      <th></th>\n",
       "      <th></th>\n",
       "      <th></th>\n",
       "      <th></th>\n",
       "      <th></th>\n",
       "      <th></th>\n",
       "      <th></th>\n",
       "      <th></th>\n",
       "      <th></th>\n",
       "      <th></th>\n",
       "      <th></th>\n",
       "    </tr>\n",
       "  </thead>\n",
       "  <tbody>\n",
       "    <tr>\n",
       "      <th>TZJHLljE</th>\n",
       "      <td>False</td>\n",
       "      <td>1.504210e+12</td>\n",
       "      <td>1.504210e+12</td>\n",
       "      <td>13</td>\n",
       "      <td>outoftime</td>\n",
       "      <td>white</td>\n",
       "      <td>15+2</td>\n",
       "      <td>bourgris</td>\n",
       "      <td>1500</td>\n",
       "      <td>a-00</td>\n",
       "      <td>1191</td>\n",
       "      <td>d4 d5 c4 c6 cxd5 e6 dxe6 fxe6 Nf3 Bb4+ Nc3 Ba5...</td>\n",
       "      <td>D10</td>\n",
       "      <td>Slav Defense: Exchange Variation</td>\n",
       "      <td>5</td>\n",
       "    </tr>\n",
       "    <tr>\n",
       "      <th>l1NXvwaE</th>\n",
       "      <td>True</td>\n",
       "      <td>1.504130e+12</td>\n",
       "      <td>1.504130e+12</td>\n",
       "      <td>16</td>\n",
       "      <td>resign</td>\n",
       "      <td>black</td>\n",
       "      <td>5+10</td>\n",
       "      <td>a-00</td>\n",
       "      <td>1322</td>\n",
       "      <td>skinnerua</td>\n",
       "      <td>1261</td>\n",
       "      <td>d4 Nc6 e4 e5 f4 f6 dxe5 fxe5 fxe5 Nxe5 Qd4 Nc6...</td>\n",
       "      <td>B00</td>\n",
       "      <td>Nimzowitsch Defense: Kennedy Variation</td>\n",
       "      <td>4</td>\n",
       "    </tr>\n",
       "    <tr>\n",
       "      <th>mIICvQHh</th>\n",
       "      <td>True</td>\n",
       "      <td>1.504130e+12</td>\n",
       "      <td>1.504130e+12</td>\n",
       "      <td>61</td>\n",
       "      <td>mate</td>\n",
       "      <td>white</td>\n",
       "      <td>5+10</td>\n",
       "      <td>ischia</td>\n",
       "      <td>1496</td>\n",
       "      <td>a-00</td>\n",
       "      <td>1500</td>\n",
       "      <td>e4 e5 d3 d6 Be3 c6 Be2 b5 Nd2 a5 a4 c5 axb5 Nc...</td>\n",
       "      <td>C20</td>\n",
       "      <td>King's Pawn Game: Leonardis Variation</td>\n",
       "      <td>3</td>\n",
       "    </tr>\n",
       "    <tr>\n",
       "      <th>kWKvrqYL</th>\n",
       "      <td>True</td>\n",
       "      <td>1.504110e+12</td>\n",
       "      <td>1.504110e+12</td>\n",
       "      <td>61</td>\n",
       "      <td>mate</td>\n",
       "      <td>white</td>\n",
       "      <td>20+0</td>\n",
       "      <td>daniamurashov</td>\n",
       "      <td>1439</td>\n",
       "      <td>adivanov2009</td>\n",
       "      <td>1454</td>\n",
       "      <td>d4 d5 Nf3 Bf5 Nc3 Nf6 Bf4 Ng4 e3 Nc6 Be2 Qd7 O...</td>\n",
       "      <td>D02</td>\n",
       "      <td>Queen's Pawn Game: Zukertort Variation</td>\n",
       "      <td>3</td>\n",
       "    </tr>\n",
       "    <tr>\n",
       "      <th>9tXo1AUZ</th>\n",
       "      <td>True</td>\n",
       "      <td>1.504030e+12</td>\n",
       "      <td>1.504030e+12</td>\n",
       "      <td>95</td>\n",
       "      <td>mate</td>\n",
       "      <td>white</td>\n",
       "      <td>30+3</td>\n",
       "      <td>nik221107</td>\n",
       "      <td>1523</td>\n",
       "      <td>adivanov2009</td>\n",
       "      <td>1469</td>\n",
       "      <td>e4 e5 Nf3 d6 d4 Nc6 d5 Nb4 a3 Na6 Nc3 Be7 b4 N...</td>\n",
       "      <td>C41</td>\n",
       "      <td>Philidor Defense</td>\n",
       "      <td>5</td>\n",
       "    </tr>\n",
       "    <tr>\n",
       "      <th>...</th>\n",
       "      <td>...</td>\n",
       "      <td>...</td>\n",
       "      <td>...</td>\n",
       "      <td>...</td>\n",
       "      <td>...</td>\n",
       "      <td>...</td>\n",
       "      <td>...</td>\n",
       "      <td>...</td>\n",
       "      <td>...</td>\n",
       "      <td>...</td>\n",
       "      <td>...</td>\n",
       "      <td>...</td>\n",
       "      <td>...</td>\n",
       "      <td>...</td>\n",
       "      <td>...</td>\n",
       "    </tr>\n",
       "    <tr>\n",
       "      <th>EfqH7VVH</th>\n",
       "      <td>True</td>\n",
       "      <td>1.499791e+12</td>\n",
       "      <td>1.499791e+12</td>\n",
       "      <td>24</td>\n",
       "      <td>resign</td>\n",
       "      <td>white</td>\n",
       "      <td>10+10</td>\n",
       "      <td>belcolt</td>\n",
       "      <td>1691</td>\n",
       "      <td>jamboger</td>\n",
       "      <td>1220</td>\n",
       "      <td>d4 f5 e3 e6 Nf3 Nf6 Nc3 b6 Be2 Bb7 O-O Be7 Ne5...</td>\n",
       "      <td>A80</td>\n",
       "      <td>Dutch Defense</td>\n",
       "      <td>2</td>\n",
       "    </tr>\n",
       "    <tr>\n",
       "      <th>WSJDhbPl</th>\n",
       "      <td>True</td>\n",
       "      <td>1.499698e+12</td>\n",
       "      <td>1.499699e+12</td>\n",
       "      <td>82</td>\n",
       "      <td>mate</td>\n",
       "      <td>black</td>\n",
       "      <td>10+0</td>\n",
       "      <td>jamboger</td>\n",
       "      <td>1233</td>\n",
       "      <td>farrukhasomiddinov</td>\n",
       "      <td>1196</td>\n",
       "      <td>d4 d6 Bf4 e5 Bg3 Nf6 e3 exd4 exd4 d5 c3 Bd6 Bd...</td>\n",
       "      <td>A41</td>\n",
       "      <td>Queen's Pawn</td>\n",
       "      <td>2</td>\n",
       "    </tr>\n",
       "    <tr>\n",
       "      <th>yrAas0Kj</th>\n",
       "      <td>True</td>\n",
       "      <td>1.499698e+12</td>\n",
       "      <td>1.499698e+12</td>\n",
       "      <td>35</td>\n",
       "      <td>mate</td>\n",
       "      <td>white</td>\n",
       "      <td>10+0</td>\n",
       "      <td>jamboger</td>\n",
       "      <td>1219</td>\n",
       "      <td>schaaksmurf3</td>\n",
       "      <td>1286</td>\n",
       "      <td>d4 d5 Bf4 Nc6 e3 Nf6 c3 e6 Nf3 Be7 Bd3 O-O Nbd...</td>\n",
       "      <td>D00</td>\n",
       "      <td>Queen's Pawn Game: Mason Attack</td>\n",
       "      <td>3</td>\n",
       "    </tr>\n",
       "    <tr>\n",
       "      <th>b0v4tRyF</th>\n",
       "      <td>True</td>\n",
       "      <td>1.499696e+12</td>\n",
       "      <td>1.499697e+12</td>\n",
       "      <td>109</td>\n",
       "      <td>resign</td>\n",
       "      <td>white</td>\n",
       "      <td>10+0</td>\n",
       "      <td>marcodisogno</td>\n",
       "      <td>1360</td>\n",
       "      <td>jamboger</td>\n",
       "      <td>1227</td>\n",
       "      <td>e4 d6 d4 Nf6 e5 dxe5 dxe5 Qxd1+ Kxd1 Nd5 c4 Nb...</td>\n",
       "      <td>B07</td>\n",
       "      <td>Pirc Defense</td>\n",
       "      <td>4</td>\n",
       "    </tr>\n",
       "    <tr>\n",
       "      <th>N8G2JHGG</th>\n",
       "      <td>True</td>\n",
       "      <td>1.499643e+12</td>\n",
       "      <td>1.499644e+12</td>\n",
       "      <td>78</td>\n",
       "      <td>mate</td>\n",
       "      <td>black</td>\n",
       "      <td>10+0</td>\n",
       "      <td>jamboger</td>\n",
       "      <td>1235</td>\n",
       "      <td>ffbob</td>\n",
       "      <td>1339</td>\n",
       "      <td>d4 d5 Bf4 Na6 e3 e6 c3 Nf6 Nf3 Bd7 Nbd2 b5 Bd3...</td>\n",
       "      <td>D00</td>\n",
       "      <td>Queen's Pawn Game: Mason Attack</td>\n",
       "      <td>3</td>\n",
       "    </tr>\n",
       "  </tbody>\n",
       "</table>\n",
       "<p>20058 rows × 15 columns</p>\n",
       "</div>"
      ],
      "text/plain": [
       "          rated    created_at  last_move_at  turns victory_status winner  \\\n",
       "id                                                                         \n",
       "TZJHLljE  False  1.504210e+12  1.504210e+12     13      outoftime  white   \n",
       "l1NXvwaE   True  1.504130e+12  1.504130e+12     16         resign  black   \n",
       "mIICvQHh   True  1.504130e+12  1.504130e+12     61           mate  white   \n",
       "kWKvrqYL   True  1.504110e+12  1.504110e+12     61           mate  white   \n",
       "9tXo1AUZ   True  1.504030e+12  1.504030e+12     95           mate  white   \n",
       "...         ...           ...           ...    ...            ...    ...   \n",
       "EfqH7VVH   True  1.499791e+12  1.499791e+12     24         resign  white   \n",
       "WSJDhbPl   True  1.499698e+12  1.499699e+12     82           mate  black   \n",
       "yrAas0Kj   True  1.499698e+12  1.499698e+12     35           mate  white   \n",
       "b0v4tRyF   True  1.499696e+12  1.499697e+12    109         resign  white   \n",
       "N8G2JHGG   True  1.499643e+12  1.499644e+12     78           mate  black   \n",
       "\n",
       "         increment_code       white_id  white_rating            black_id  \\\n",
       "id                                                                         \n",
       "TZJHLljE           15+2       bourgris          1500                a-00   \n",
       "l1NXvwaE           5+10           a-00          1322           skinnerua   \n",
       "mIICvQHh           5+10         ischia          1496                a-00   \n",
       "kWKvrqYL           20+0  daniamurashov          1439        adivanov2009   \n",
       "9tXo1AUZ           30+3      nik221107          1523        adivanov2009   \n",
       "...                 ...            ...           ...                 ...   \n",
       "EfqH7VVH          10+10        belcolt          1691            jamboger   \n",
       "WSJDhbPl           10+0       jamboger          1233  farrukhasomiddinov   \n",
       "yrAas0Kj           10+0       jamboger          1219        schaaksmurf3   \n",
       "b0v4tRyF           10+0   marcodisogno          1360            jamboger   \n",
       "N8G2JHGG           10+0       jamboger          1235               ffbob   \n",
       "\n",
       "          black_rating                                              moves  \\\n",
       "id                                                                          \n",
       "TZJHLljE          1191  d4 d5 c4 c6 cxd5 e6 dxe6 fxe6 Nf3 Bb4+ Nc3 Ba5...   \n",
       "l1NXvwaE          1261  d4 Nc6 e4 e5 f4 f6 dxe5 fxe5 fxe5 Nxe5 Qd4 Nc6...   \n",
       "mIICvQHh          1500  e4 e5 d3 d6 Be3 c6 Be2 b5 Nd2 a5 a4 c5 axb5 Nc...   \n",
       "kWKvrqYL          1454  d4 d5 Nf3 Bf5 Nc3 Nf6 Bf4 Ng4 e3 Nc6 Be2 Qd7 O...   \n",
       "9tXo1AUZ          1469  e4 e5 Nf3 d6 d4 Nc6 d5 Nb4 a3 Na6 Nc3 Be7 b4 N...   \n",
       "...                ...                                                ...   \n",
       "EfqH7VVH          1220  d4 f5 e3 e6 Nf3 Nf6 Nc3 b6 Be2 Bb7 O-O Be7 Ne5...   \n",
       "WSJDhbPl          1196  d4 d6 Bf4 e5 Bg3 Nf6 e3 exd4 exd4 d5 c3 Bd6 Bd...   \n",
       "yrAas0Kj          1286  d4 d5 Bf4 Nc6 e3 Nf6 c3 e6 Nf3 Be7 Bd3 O-O Nbd...   \n",
       "b0v4tRyF          1227  e4 d6 d4 Nf6 e5 dxe5 dxe5 Qxd1+ Kxd1 Nd5 c4 Nb...   \n",
       "N8G2JHGG          1339  d4 d5 Bf4 Na6 e3 e6 c3 Nf6 Nf3 Bd7 Nbd2 b5 Bd3...   \n",
       "\n",
       "         opening_eco                            opening_name  opening_ply  \n",
       "id                                                                         \n",
       "TZJHLljE         D10        Slav Defense: Exchange Variation            5  \n",
       "l1NXvwaE         B00  Nimzowitsch Defense: Kennedy Variation            4  \n",
       "mIICvQHh         C20   King's Pawn Game: Leonardis Variation            3  \n",
       "kWKvrqYL         D02  Queen's Pawn Game: Zukertort Variation            3  \n",
       "9tXo1AUZ         C41                        Philidor Defense            5  \n",
       "...              ...                                     ...          ...  \n",
       "EfqH7VVH         A80                           Dutch Defense            2  \n",
       "WSJDhbPl         A41                            Queen's Pawn            2  \n",
       "yrAas0Kj         D00         Queen's Pawn Game: Mason Attack            3  \n",
       "b0v4tRyF         B07                            Pirc Defense            4  \n",
       "N8G2JHGG         D00         Queen's Pawn Game: Mason Attack            3  \n",
       "\n",
       "[20058 rows x 15 columns]"
      ]
     },
     "execution_count": 2,
     "metadata": {},
     "output_type": "execute_result"
    }
   ],
   "source": [
    "df=pd.read_csv('games.csv/games.csv',index_col=\"id\")\n",
    "pd.set_option('display.max_columns',15)\n",
    "df"
   ]
  },
  {
   "cell_type": "code",
   "execution_count": 3,
   "metadata": {},
   "outputs": [
    {
     "data": {
      "text/plain": [
       "False"
      ]
     },
     "execution_count": 3,
     "metadata": {},
     "output_type": "execute_result"
    }
   ],
   "source": [
    "df.isna().values.any()"
   ]
  },
  {
   "cell_type": "markdown",
   "metadata": {},
   "source": [
    "So, no nan values in dataframe."
   ]
  },
  {
   "cell_type": "code",
   "execution_count": 4,
   "metadata": {},
   "outputs": [
    {
     "data": {
      "text/plain": [
       "0"
      ]
     },
     "execution_count": 4,
     "metadata": {},
     "output_type": "execute_result"
    }
   ],
   "source": [
    "df.isna().values.sum()              "
   ]
  },
  {
   "cell_type": "code",
   "execution_count": 5,
   "metadata": {},
   "outputs": [
    {
     "data": {
      "text/plain": [
       "Index(['rated', 'created_at', 'last_move_at', 'turns', 'victory_status',\n",
       "       'winner', 'increment_code', 'white_id', 'white_rating', 'black_id',\n",
       "       'black_rating', 'moves', 'opening_eco', 'opening_name', 'opening_ply'],\n",
       "      dtype='object')"
      ]
     },
     "execution_count": 5,
     "metadata": {},
     "output_type": "execute_result"
    }
   ],
   "source": [
    "df.columns"
   ]
  },
  {
   "cell_type": "code",
   "execution_count": 6,
   "metadata": {},
   "outputs": [
    {
     "data": {
      "text/plain": [
       "['rated',\n",
       " 'created_at',\n",
       " 'last_move_at',\n",
       " 'turns',\n",
       " 'white_rating',\n",
       " 'black_rating',\n",
       " 'opening_ply']"
      ]
     },
     "execution_count": 6,
     "metadata": {},
     "output_type": "execute_result"
    }
   ],
   "source": [
    "num_cols=[col for col in df.columns if df[col].dtype != \"object\"]\n",
    "num_cols"
   ]
  },
  {
   "cell_type": "code",
   "execution_count": 7,
   "metadata": {},
   "outputs": [
    {
     "data": {
      "text/plain": [
       "['victory_status',\n",
       " 'winner',\n",
       " 'increment_code',\n",
       " 'white_id',\n",
       " 'black_id',\n",
       " 'moves',\n",
       " 'opening_eco',\n",
       " 'opening_name']"
      ]
     },
     "execution_count": 7,
     "metadata": {},
     "output_type": "execute_result"
    }
   ],
   "source": [
    "object_cols=[col for col in df.columns if df[col].dtype == \"object\"]\n",
    "object_cols"
   ]
  },
  {
   "cell_type": "code",
   "execution_count": 8,
   "metadata": {},
   "outputs": [
    {
     "data": {
      "text/plain": [
       "['victory_status', 'winner']"
      ]
     },
     "execution_count": 8,
     "metadata": {},
     "output_type": "execute_result"
    }
   ],
   "source": [
    "usable_object_cols=[col for col in object_cols if df[col].nunique() <= 10]\n",
    "usable_object_cols"
   ]
  },
  {
   "cell_type": "code",
   "execution_count": 9,
   "metadata": {},
   "outputs": [
    {
     "data": {
      "text/plain": [
       "8"
      ]
     },
     "execution_count": 9,
     "metadata": {},
     "output_type": "execute_result"
    }
   ],
   "source": [
    "len(object_cols)"
   ]
  },
  {
   "cell_type": "code",
   "execution_count": 10,
   "metadata": {},
   "outputs": [
    {
     "data": {
      "text/html": [
       "<div>\n",
       "<style scoped>\n",
       "    .dataframe tbody tr th:only-of-type {\n",
       "        vertical-align: middle;\n",
       "    }\n",
       "\n",
       "    .dataframe tbody tr th {\n",
       "        vertical-align: top;\n",
       "    }\n",
       "\n",
       "    .dataframe thead th {\n",
       "        text-align: right;\n",
       "    }\n",
       "</style>\n",
       "<table border=\"1\" class=\"dataframe\">\n",
       "  <thead>\n",
       "    <tr style=\"text-align: right;\">\n",
       "      <th></th>\n",
       "      <th>rated</th>\n",
       "      <th>created_at</th>\n",
       "      <th>last_move_at</th>\n",
       "      <th>turns</th>\n",
       "      <th>increment_code</th>\n",
       "      <th>white_id</th>\n",
       "      <th>white_rating</th>\n",
       "      <th>...</th>\n",
       "      <th>victory_status_draw</th>\n",
       "      <th>victory_status_mate</th>\n",
       "      <th>victory_status_outoftime</th>\n",
       "      <th>victory_status_resign</th>\n",
       "      <th>winner_black</th>\n",
       "      <th>winner_draw</th>\n",
       "      <th>winner_white</th>\n",
       "    </tr>\n",
       "    <tr>\n",
       "      <th>id</th>\n",
       "      <th></th>\n",
       "      <th></th>\n",
       "      <th></th>\n",
       "      <th></th>\n",
       "      <th></th>\n",
       "      <th></th>\n",
       "      <th></th>\n",
       "      <th></th>\n",
       "      <th></th>\n",
       "      <th></th>\n",
       "      <th></th>\n",
       "      <th></th>\n",
       "      <th></th>\n",
       "      <th></th>\n",
       "      <th></th>\n",
       "    </tr>\n",
       "  </thead>\n",
       "  <tbody>\n",
       "    <tr>\n",
       "      <th>TZJHLljE</th>\n",
       "      <td>False</td>\n",
       "      <td>1.504210e+12</td>\n",
       "      <td>1.504210e+12</td>\n",
       "      <td>13</td>\n",
       "      <td>15+2</td>\n",
       "      <td>bourgris</td>\n",
       "      <td>1500</td>\n",
       "      <td>...</td>\n",
       "      <td>0</td>\n",
       "      <td>0</td>\n",
       "      <td>1</td>\n",
       "      <td>0</td>\n",
       "      <td>0</td>\n",
       "      <td>0</td>\n",
       "      <td>1</td>\n",
       "    </tr>\n",
       "    <tr>\n",
       "      <th>l1NXvwaE</th>\n",
       "      <td>True</td>\n",
       "      <td>1.504130e+12</td>\n",
       "      <td>1.504130e+12</td>\n",
       "      <td>16</td>\n",
       "      <td>5+10</td>\n",
       "      <td>a-00</td>\n",
       "      <td>1322</td>\n",
       "      <td>...</td>\n",
       "      <td>0</td>\n",
       "      <td>0</td>\n",
       "      <td>0</td>\n",
       "      <td>1</td>\n",
       "      <td>1</td>\n",
       "      <td>0</td>\n",
       "      <td>0</td>\n",
       "    </tr>\n",
       "    <tr>\n",
       "      <th>mIICvQHh</th>\n",
       "      <td>True</td>\n",
       "      <td>1.504130e+12</td>\n",
       "      <td>1.504130e+12</td>\n",
       "      <td>61</td>\n",
       "      <td>5+10</td>\n",
       "      <td>ischia</td>\n",
       "      <td>1496</td>\n",
       "      <td>...</td>\n",
       "      <td>0</td>\n",
       "      <td>1</td>\n",
       "      <td>0</td>\n",
       "      <td>0</td>\n",
       "      <td>0</td>\n",
       "      <td>0</td>\n",
       "      <td>1</td>\n",
       "    </tr>\n",
       "    <tr>\n",
       "      <th>kWKvrqYL</th>\n",
       "      <td>True</td>\n",
       "      <td>1.504110e+12</td>\n",
       "      <td>1.504110e+12</td>\n",
       "      <td>61</td>\n",
       "      <td>20+0</td>\n",
       "      <td>daniamurashov</td>\n",
       "      <td>1439</td>\n",
       "      <td>...</td>\n",
       "      <td>0</td>\n",
       "      <td>1</td>\n",
       "      <td>0</td>\n",
       "      <td>0</td>\n",
       "      <td>0</td>\n",
       "      <td>0</td>\n",
       "      <td>1</td>\n",
       "    </tr>\n",
       "    <tr>\n",
       "      <th>9tXo1AUZ</th>\n",
       "      <td>True</td>\n",
       "      <td>1.504030e+12</td>\n",
       "      <td>1.504030e+12</td>\n",
       "      <td>95</td>\n",
       "      <td>30+3</td>\n",
       "      <td>nik221107</td>\n",
       "      <td>1523</td>\n",
       "      <td>...</td>\n",
       "      <td>0</td>\n",
       "      <td>1</td>\n",
       "      <td>0</td>\n",
       "      <td>0</td>\n",
       "      <td>0</td>\n",
       "      <td>0</td>\n",
       "      <td>1</td>\n",
       "    </tr>\n",
       "    <tr>\n",
       "      <th>...</th>\n",
       "      <td>...</td>\n",
       "      <td>...</td>\n",
       "      <td>...</td>\n",
       "      <td>...</td>\n",
       "      <td>...</td>\n",
       "      <td>...</td>\n",
       "      <td>...</td>\n",
       "      <td>...</td>\n",
       "      <td>...</td>\n",
       "      <td>...</td>\n",
       "      <td>...</td>\n",
       "      <td>...</td>\n",
       "      <td>...</td>\n",
       "      <td>...</td>\n",
       "      <td>...</td>\n",
       "    </tr>\n",
       "    <tr>\n",
       "      <th>EfqH7VVH</th>\n",
       "      <td>True</td>\n",
       "      <td>1.499791e+12</td>\n",
       "      <td>1.499791e+12</td>\n",
       "      <td>24</td>\n",
       "      <td>10+10</td>\n",
       "      <td>belcolt</td>\n",
       "      <td>1691</td>\n",
       "      <td>...</td>\n",
       "      <td>0</td>\n",
       "      <td>0</td>\n",
       "      <td>0</td>\n",
       "      <td>1</td>\n",
       "      <td>0</td>\n",
       "      <td>0</td>\n",
       "      <td>1</td>\n",
       "    </tr>\n",
       "    <tr>\n",
       "      <th>WSJDhbPl</th>\n",
       "      <td>True</td>\n",
       "      <td>1.499698e+12</td>\n",
       "      <td>1.499699e+12</td>\n",
       "      <td>82</td>\n",
       "      <td>10+0</td>\n",
       "      <td>jamboger</td>\n",
       "      <td>1233</td>\n",
       "      <td>...</td>\n",
       "      <td>0</td>\n",
       "      <td>1</td>\n",
       "      <td>0</td>\n",
       "      <td>0</td>\n",
       "      <td>1</td>\n",
       "      <td>0</td>\n",
       "      <td>0</td>\n",
       "    </tr>\n",
       "    <tr>\n",
       "      <th>yrAas0Kj</th>\n",
       "      <td>True</td>\n",
       "      <td>1.499698e+12</td>\n",
       "      <td>1.499698e+12</td>\n",
       "      <td>35</td>\n",
       "      <td>10+0</td>\n",
       "      <td>jamboger</td>\n",
       "      <td>1219</td>\n",
       "      <td>...</td>\n",
       "      <td>0</td>\n",
       "      <td>1</td>\n",
       "      <td>0</td>\n",
       "      <td>0</td>\n",
       "      <td>0</td>\n",
       "      <td>0</td>\n",
       "      <td>1</td>\n",
       "    </tr>\n",
       "    <tr>\n",
       "      <th>b0v4tRyF</th>\n",
       "      <td>True</td>\n",
       "      <td>1.499696e+12</td>\n",
       "      <td>1.499697e+12</td>\n",
       "      <td>109</td>\n",
       "      <td>10+0</td>\n",
       "      <td>marcodisogno</td>\n",
       "      <td>1360</td>\n",
       "      <td>...</td>\n",
       "      <td>0</td>\n",
       "      <td>0</td>\n",
       "      <td>0</td>\n",
       "      <td>1</td>\n",
       "      <td>0</td>\n",
       "      <td>0</td>\n",
       "      <td>1</td>\n",
       "    </tr>\n",
       "    <tr>\n",
       "      <th>N8G2JHGG</th>\n",
       "      <td>True</td>\n",
       "      <td>1.499643e+12</td>\n",
       "      <td>1.499644e+12</td>\n",
       "      <td>78</td>\n",
       "      <td>10+0</td>\n",
       "      <td>jamboger</td>\n",
       "      <td>1235</td>\n",
       "      <td>...</td>\n",
       "      <td>0</td>\n",
       "      <td>1</td>\n",
       "      <td>0</td>\n",
       "      <td>0</td>\n",
       "      <td>1</td>\n",
       "      <td>0</td>\n",
       "      <td>0</td>\n",
       "    </tr>\n",
       "  </tbody>\n",
       "</table>\n",
       "<p>20058 rows × 20 columns</p>\n",
       "</div>"
      ],
      "text/plain": [
       "          rated    created_at  last_move_at  turns increment_code  \\\n",
       "id                                                                  \n",
       "TZJHLljE  False  1.504210e+12  1.504210e+12     13           15+2   \n",
       "l1NXvwaE   True  1.504130e+12  1.504130e+12     16           5+10   \n",
       "mIICvQHh   True  1.504130e+12  1.504130e+12     61           5+10   \n",
       "kWKvrqYL   True  1.504110e+12  1.504110e+12     61           20+0   \n",
       "9tXo1AUZ   True  1.504030e+12  1.504030e+12     95           30+3   \n",
       "...         ...           ...           ...    ...            ...   \n",
       "EfqH7VVH   True  1.499791e+12  1.499791e+12     24          10+10   \n",
       "WSJDhbPl   True  1.499698e+12  1.499699e+12     82           10+0   \n",
       "yrAas0Kj   True  1.499698e+12  1.499698e+12     35           10+0   \n",
       "b0v4tRyF   True  1.499696e+12  1.499697e+12    109           10+0   \n",
       "N8G2JHGG   True  1.499643e+12  1.499644e+12     78           10+0   \n",
       "\n",
       "               white_id  white_rating  ... victory_status_draw  \\\n",
       "id                                     ...                       \n",
       "TZJHLljE       bourgris          1500  ...                   0   \n",
       "l1NXvwaE           a-00          1322  ...                   0   \n",
       "mIICvQHh         ischia          1496  ...                   0   \n",
       "kWKvrqYL  daniamurashov          1439  ...                   0   \n",
       "9tXo1AUZ      nik221107          1523  ...                   0   \n",
       "...                 ...           ...  ...                 ...   \n",
       "EfqH7VVH        belcolt          1691  ...                   0   \n",
       "WSJDhbPl       jamboger          1233  ...                   0   \n",
       "yrAas0Kj       jamboger          1219  ...                   0   \n",
       "b0v4tRyF   marcodisogno          1360  ...                   0   \n",
       "N8G2JHGG       jamboger          1235  ...                   0   \n",
       "\n",
       "          victory_status_mate victory_status_outoftime victory_status_resign  \\\n",
       "id                                                                             \n",
       "TZJHLljE                    0                        1                     0   \n",
       "l1NXvwaE                    0                        0                     1   \n",
       "mIICvQHh                    1                        0                     0   \n",
       "kWKvrqYL                    1                        0                     0   \n",
       "9tXo1AUZ                    1                        0                     0   \n",
       "...                       ...                      ...                   ...   \n",
       "EfqH7VVH                    0                        0                     1   \n",
       "WSJDhbPl                    1                        0                     0   \n",
       "yrAas0Kj                    1                        0                     0   \n",
       "b0v4tRyF                    0                        0                     1   \n",
       "N8G2JHGG                    1                        0                     0   \n",
       "\n",
       "         winner_black  winner_draw  winner_white  \n",
       "id                                                \n",
       "TZJHLljE            0            0             1  \n",
       "l1NXvwaE            1            0             0  \n",
       "mIICvQHh            0            0             1  \n",
       "kWKvrqYL            0            0             1  \n",
       "9tXo1AUZ            0            0             1  \n",
       "...               ...          ...           ...  \n",
       "EfqH7VVH            0            0             1  \n",
       "WSJDhbPl            1            0             0  \n",
       "yrAas0Kj            0            0             1  \n",
       "b0v4tRyF            0            0             1  \n",
       "N8G2JHGG            1            0             0  \n",
       "\n",
       "[20058 rows x 20 columns]"
      ]
     },
     "execution_count": 10,
     "metadata": {},
     "output_type": "execute_result"
    }
   ],
   "source": [
    "filtered_df = pd.get_dummies(df,columns=usable_object_cols)\n",
    "filtered_df"
   ]
  },
  {
   "cell_type": "code",
   "execution_count": 11,
   "metadata": {},
   "outputs": [
    {
     "data": {
      "text/plain": [
       "['black_id',\n",
       " 'white_id',\n",
       " 'moves',\n",
       " 'opening_eco',\n",
       " 'opening_name',\n",
       " 'increment_code']"
      ]
     },
     "execution_count": 11,
     "metadata": {},
     "output_type": "execute_result"
    }
   ],
   "source": [
    "factor_cols=list(set(object_cols)-set(usable_object_cols))\n",
    "factor_cols"
   ]
  },
  {
   "cell_type": "code",
   "execution_count": 12,
   "metadata": {},
   "outputs": [],
   "source": [
    "for col in factor_cols:\n",
    "    filtered_df[col],_=pd.factorize(filtered_df[col])"
   ]
  },
  {
   "cell_type": "code",
   "execution_count": 13,
   "metadata": {},
   "outputs": [
    {
     "data": {
      "text/html": [
       "<div>\n",
       "<style scoped>\n",
       "    .dataframe tbody tr th:only-of-type {\n",
       "        vertical-align: middle;\n",
       "    }\n",
       "\n",
       "    .dataframe tbody tr th {\n",
       "        vertical-align: top;\n",
       "    }\n",
       "\n",
       "    .dataframe thead th {\n",
       "        text-align: right;\n",
       "    }\n",
       "</style>\n",
       "<table border=\"1\" class=\"dataframe\">\n",
       "  <thead>\n",
       "    <tr style=\"text-align: right;\">\n",
       "      <th></th>\n",
       "      <th>rated</th>\n",
       "      <th>created_at</th>\n",
       "      <th>last_move_at</th>\n",
       "      <th>turns</th>\n",
       "      <th>increment_code</th>\n",
       "      <th>white_id</th>\n",
       "      <th>white_rating</th>\n",
       "      <th>...</th>\n",
       "      <th>victory_status_draw</th>\n",
       "      <th>victory_status_mate</th>\n",
       "      <th>victory_status_outoftime</th>\n",
       "      <th>victory_status_resign</th>\n",
       "      <th>winner_black</th>\n",
       "      <th>winner_draw</th>\n",
       "      <th>winner_white</th>\n",
       "    </tr>\n",
       "    <tr>\n",
       "      <th>id</th>\n",
       "      <th></th>\n",
       "      <th></th>\n",
       "      <th></th>\n",
       "      <th></th>\n",
       "      <th></th>\n",
       "      <th></th>\n",
       "      <th></th>\n",
       "      <th></th>\n",
       "      <th></th>\n",
       "      <th></th>\n",
       "      <th></th>\n",
       "      <th></th>\n",
       "      <th></th>\n",
       "      <th></th>\n",
       "      <th></th>\n",
       "    </tr>\n",
       "  </thead>\n",
       "  <tbody>\n",
       "    <tr>\n",
       "      <th>TZJHLljE</th>\n",
       "      <td>False</td>\n",
       "      <td>1.504210e+12</td>\n",
       "      <td>1.504210e+12</td>\n",
       "      <td>13</td>\n",
       "      <td>0</td>\n",
       "      <td>0</td>\n",
       "      <td>1500</td>\n",
       "      <td>...</td>\n",
       "      <td>0</td>\n",
       "      <td>0</td>\n",
       "      <td>1</td>\n",
       "      <td>0</td>\n",
       "      <td>0</td>\n",
       "      <td>0</td>\n",
       "      <td>1</td>\n",
       "    </tr>\n",
       "    <tr>\n",
       "      <th>l1NXvwaE</th>\n",
       "      <td>True</td>\n",
       "      <td>1.504130e+12</td>\n",
       "      <td>1.504130e+12</td>\n",
       "      <td>16</td>\n",
       "      <td>1</td>\n",
       "      <td>1</td>\n",
       "      <td>1322</td>\n",
       "      <td>...</td>\n",
       "      <td>0</td>\n",
       "      <td>0</td>\n",
       "      <td>0</td>\n",
       "      <td>1</td>\n",
       "      <td>1</td>\n",
       "      <td>0</td>\n",
       "      <td>0</td>\n",
       "    </tr>\n",
       "    <tr>\n",
       "      <th>mIICvQHh</th>\n",
       "      <td>True</td>\n",
       "      <td>1.504130e+12</td>\n",
       "      <td>1.504130e+12</td>\n",
       "      <td>61</td>\n",
       "      <td>1</td>\n",
       "      <td>2</td>\n",
       "      <td>1496</td>\n",
       "      <td>...</td>\n",
       "      <td>0</td>\n",
       "      <td>1</td>\n",
       "      <td>0</td>\n",
       "      <td>0</td>\n",
       "      <td>0</td>\n",
       "      <td>0</td>\n",
       "      <td>1</td>\n",
       "    </tr>\n",
       "    <tr>\n",
       "      <th>kWKvrqYL</th>\n",
       "      <td>True</td>\n",
       "      <td>1.504110e+12</td>\n",
       "      <td>1.504110e+12</td>\n",
       "      <td>61</td>\n",
       "      <td>2</td>\n",
       "      <td>3</td>\n",
       "      <td>1439</td>\n",
       "      <td>...</td>\n",
       "      <td>0</td>\n",
       "      <td>1</td>\n",
       "      <td>0</td>\n",
       "      <td>0</td>\n",
       "      <td>0</td>\n",
       "      <td>0</td>\n",
       "      <td>1</td>\n",
       "    </tr>\n",
       "    <tr>\n",
       "      <th>9tXo1AUZ</th>\n",
       "      <td>True</td>\n",
       "      <td>1.504030e+12</td>\n",
       "      <td>1.504030e+12</td>\n",
       "      <td>95</td>\n",
       "      <td>3</td>\n",
       "      <td>4</td>\n",
       "      <td>1523</td>\n",
       "      <td>...</td>\n",
       "      <td>0</td>\n",
       "      <td>1</td>\n",
       "      <td>0</td>\n",
       "      <td>0</td>\n",
       "      <td>0</td>\n",
       "      <td>0</td>\n",
       "      <td>1</td>\n",
       "    </tr>\n",
       "    <tr>\n",
       "      <th>...</th>\n",
       "      <td>...</td>\n",
       "      <td>...</td>\n",
       "      <td>...</td>\n",
       "      <td>...</td>\n",
       "      <td>...</td>\n",
       "      <td>...</td>\n",
       "      <td>...</td>\n",
       "      <td>...</td>\n",
       "      <td>...</td>\n",
       "      <td>...</td>\n",
       "      <td>...</td>\n",
       "      <td>...</td>\n",
       "      <td>...</td>\n",
       "      <td>...</td>\n",
       "      <td>...</td>\n",
       "    </tr>\n",
       "    <tr>\n",
       "      <th>EfqH7VVH</th>\n",
       "      <td>True</td>\n",
       "      <td>1.499791e+12</td>\n",
       "      <td>1.499791e+12</td>\n",
       "      <td>24</td>\n",
       "      <td>15</td>\n",
       "      <td>9436</td>\n",
       "      <td>1691</td>\n",
       "      <td>...</td>\n",
       "      <td>0</td>\n",
       "      <td>0</td>\n",
       "      <td>0</td>\n",
       "      <td>1</td>\n",
       "      <td>0</td>\n",
       "      <td>0</td>\n",
       "      <td>1</td>\n",
       "    </tr>\n",
       "    <tr>\n",
       "      <th>WSJDhbPl</th>\n",
       "      <td>True</td>\n",
       "      <td>1.499698e+12</td>\n",
       "      <td>1.499699e+12</td>\n",
       "      <td>82</td>\n",
       "      <td>4</td>\n",
       "      <td>9426</td>\n",
       "      <td>1233</td>\n",
       "      <td>...</td>\n",
       "      <td>0</td>\n",
       "      <td>1</td>\n",
       "      <td>0</td>\n",
       "      <td>0</td>\n",
       "      <td>1</td>\n",
       "      <td>0</td>\n",
       "      <td>0</td>\n",
       "    </tr>\n",
       "    <tr>\n",
       "      <th>yrAas0Kj</th>\n",
       "      <td>True</td>\n",
       "      <td>1.499698e+12</td>\n",
       "      <td>1.499698e+12</td>\n",
       "      <td>35</td>\n",
       "      <td>4</td>\n",
       "      <td>9426</td>\n",
       "      <td>1219</td>\n",
       "      <td>...</td>\n",
       "      <td>0</td>\n",
       "      <td>1</td>\n",
       "      <td>0</td>\n",
       "      <td>0</td>\n",
       "      <td>0</td>\n",
       "      <td>0</td>\n",
       "      <td>1</td>\n",
       "    </tr>\n",
       "    <tr>\n",
       "      <th>b0v4tRyF</th>\n",
       "      <td>True</td>\n",
       "      <td>1.499696e+12</td>\n",
       "      <td>1.499697e+12</td>\n",
       "      <td>109</td>\n",
       "      <td>4</td>\n",
       "      <td>9437</td>\n",
       "      <td>1360</td>\n",
       "      <td>...</td>\n",
       "      <td>0</td>\n",
       "      <td>0</td>\n",
       "      <td>0</td>\n",
       "      <td>1</td>\n",
       "      <td>0</td>\n",
       "      <td>0</td>\n",
       "      <td>1</td>\n",
       "    </tr>\n",
       "    <tr>\n",
       "      <th>N8G2JHGG</th>\n",
       "      <td>True</td>\n",
       "      <td>1.499643e+12</td>\n",
       "      <td>1.499644e+12</td>\n",
       "      <td>78</td>\n",
       "      <td>4</td>\n",
       "      <td>9426</td>\n",
       "      <td>1235</td>\n",
       "      <td>...</td>\n",
       "      <td>0</td>\n",
       "      <td>1</td>\n",
       "      <td>0</td>\n",
       "      <td>0</td>\n",
       "      <td>1</td>\n",
       "      <td>0</td>\n",
       "      <td>0</td>\n",
       "    </tr>\n",
       "  </tbody>\n",
       "</table>\n",
       "<p>20058 rows × 20 columns</p>\n",
       "</div>"
      ],
      "text/plain": [
       "          rated    created_at  last_move_at  turns  increment_code  white_id  \\\n",
       "id                                                                             \n",
       "TZJHLljE  False  1.504210e+12  1.504210e+12     13               0         0   \n",
       "l1NXvwaE   True  1.504130e+12  1.504130e+12     16               1         1   \n",
       "mIICvQHh   True  1.504130e+12  1.504130e+12     61               1         2   \n",
       "kWKvrqYL   True  1.504110e+12  1.504110e+12     61               2         3   \n",
       "9tXo1AUZ   True  1.504030e+12  1.504030e+12     95               3         4   \n",
       "...         ...           ...           ...    ...             ...       ...   \n",
       "EfqH7VVH   True  1.499791e+12  1.499791e+12     24              15      9436   \n",
       "WSJDhbPl   True  1.499698e+12  1.499699e+12     82               4      9426   \n",
       "yrAas0Kj   True  1.499698e+12  1.499698e+12     35               4      9426   \n",
       "b0v4tRyF   True  1.499696e+12  1.499697e+12    109               4      9437   \n",
       "N8G2JHGG   True  1.499643e+12  1.499644e+12     78               4      9426   \n",
       "\n",
       "          white_rating  ...  victory_status_draw  victory_status_mate  \\\n",
       "id                      ...                                             \n",
       "TZJHLljE          1500  ...                    0                    0   \n",
       "l1NXvwaE          1322  ...                    0                    0   \n",
       "mIICvQHh          1496  ...                    0                    1   \n",
       "kWKvrqYL          1439  ...                    0                    1   \n",
       "9tXo1AUZ          1523  ...                    0                    1   \n",
       "...                ...  ...                  ...                  ...   \n",
       "EfqH7VVH          1691  ...                    0                    0   \n",
       "WSJDhbPl          1233  ...                    0                    1   \n",
       "yrAas0Kj          1219  ...                    0                    1   \n",
       "b0v4tRyF          1360  ...                    0                    0   \n",
       "N8G2JHGG          1235  ...                    0                    1   \n",
       "\n",
       "          victory_status_outoftime  victory_status_resign  winner_black  \\\n",
       "id                                                                        \n",
       "TZJHLljE                         1                      0             0   \n",
       "l1NXvwaE                         0                      1             1   \n",
       "mIICvQHh                         0                      0             0   \n",
       "kWKvrqYL                         0                      0             0   \n",
       "9tXo1AUZ                         0                      0             0   \n",
       "...                            ...                    ...           ...   \n",
       "EfqH7VVH                         0                      1             0   \n",
       "WSJDhbPl                         0                      0             1   \n",
       "yrAas0Kj                         0                      0             0   \n",
       "b0v4tRyF                         0                      1             0   \n",
       "N8G2JHGG                         0                      0             1   \n",
       "\n",
       "          winner_draw  winner_white  \n",
       "id                                   \n",
       "TZJHLljE            0             1  \n",
       "l1NXvwaE            0             0  \n",
       "mIICvQHh            0             1  \n",
       "kWKvrqYL            0             1  \n",
       "9tXo1AUZ            0             1  \n",
       "...               ...           ...  \n",
       "EfqH7VVH            0             1  \n",
       "WSJDhbPl            0             0  \n",
       "yrAas0Kj            0             1  \n",
       "b0v4tRyF            0             1  \n",
       "N8G2JHGG            0             0  \n",
       "\n",
       "[20058 rows x 20 columns]"
      ]
     },
     "execution_count": 13,
     "metadata": {},
     "output_type": "execute_result"
    }
   ],
   "source": [
    "filtered_df"
   ]
  },
  {
   "cell_type": "code",
   "execution_count": 14,
   "metadata": {},
   "outputs": [
    {
     "data": {
      "text/plain": [
       "[]"
      ]
     },
     "execution_count": 14,
     "metadata": {},
     "output_type": "execute_result"
    }
   ],
   "source": [
    "letssee = [col for col in filtered_df.columns if filtered_df[col].dtype==object]\n",
    "letssee"
   ]
  },
  {
   "cell_type": "code",
   "execution_count": 15,
   "metadata": {},
   "outputs": [],
   "source": [
    "target=filtered_df.pop(\"white_rating\")\n",
    "y=target.to_numpy()\n",
    "X=filtered_df.values"
   ]
  },
  {
   "cell_type": "code",
   "execution_count": 16,
   "metadata": {},
   "outputs": [],
   "source": [
    "from sklearn.model_selection import train_test_split"
   ]
  },
  {
   "cell_type": "code",
   "execution_count": 17,
   "metadata": {},
   "outputs": [],
   "source": [
    "X_train, X_test, y_train, y_test = train_test_split(X, y, test_size=0.30, shuffle=True)"
   ]
  },
  {
   "cell_type": "code",
   "execution_count": 18,
   "metadata": {},
   "outputs": [
    {
     "data": {
      "text/plain": [
       "((6018, 19), (6018,))"
      ]
     },
     "execution_count": 18,
     "metadata": {},
     "output_type": "execute_result"
    }
   ],
   "source": [
    "X_test.shape,y_test.shape"
   ]
  },
  {
   "cell_type": "code",
   "execution_count": 19,
   "metadata": {},
   "outputs": [
    {
     "data": {
      "text/plain": [
       "((14040, 19), (14040,))"
      ]
     },
     "execution_count": 19,
     "metadata": {},
     "output_type": "execute_result"
    }
   ],
   "source": [
    "X_train.shape,y_train.shape"
   ]
  },
  {
   "cell_type": "code",
   "execution_count": 20,
   "metadata": {},
   "outputs": [],
   "source": [
    "from sklearn.preprocessing import StandardScaler\n",
    "scaler=StandardScaler()\n",
    "scaler.fit(X_train)\n",
    "x_train_std=scaler.transform(X_train)"
   ]
  },
  {
   "cell_type": "code",
   "execution_count": 21,
   "metadata": {},
   "outputs": [
    {
     "data": {
      "text/plain": [
       "LinearRegression()"
      ]
     },
     "execution_count": 21,
     "metadata": {},
     "output_type": "execute_result"
    }
   ],
   "source": [
    "from sklearn.linear_model import LinearRegression\n",
    "model=LinearRegression()\n",
    "model.fit(x_train_std,y_train)"
   ]
  },
  {
   "cell_type": "code",
   "execution_count": 22,
   "metadata": {},
   "outputs": [
    {
     "data": {
      "text/plain": [
       "0.492655385307292"
      ]
     },
     "execution_count": 22,
     "metadata": {},
     "output_type": "execute_result"
    }
   ],
   "source": [
    "model.score(x_train_std,y_train)"
   ]
  },
  {
   "cell_type": "code",
   "execution_count": 23,
   "metadata": {},
   "outputs": [],
   "source": [
    "x_test_std=scaler.transform(X_test)"
   ]
  },
  {
   "cell_type": "code",
   "execution_count": 24,
   "metadata": {},
   "outputs": [],
   "source": [
    "preds=model.predict(x_test_std)"
   ]
  },
  {
   "cell_type": "code",
   "execution_count": 25,
   "metadata": {},
   "outputs": [
    {
     "data": {
      "text/plain": [
       "array([1456.56563489, 1258.69063489, 1475.87813489, 1448.31563489,\n",
       "       1647.25313489, 1504.12813489, 1638.06563489, 2041.31563489,\n",
       "       1678.94063489, 1288.19063489, 1531.06563489, 1559.31563489,\n",
       "       1843.31563489, 1970.31563489, 1862.44063489, 1627.31563489,\n",
       "       1710.56563489, 1383.06563489, 1880.69063489, 1376.84688489,\n",
       "       1662.94063489, 1701.81563489, 1661.69063489, 1525.06563489,\n",
       "       1384.37813489, 1772.56563489, 1672.78438489, 1401.81563489,\n",
       "       1301.81563489, 1534.81563489, 1728.06563489, 1613.44063489,\n",
       "       1643.69063489, 1692.81563489, 1599.31563489, 1534.19063489,\n",
       "       1489.31563489, 1708.94063489, 1373.56563489, 1497.19063489,\n",
       "       1677.00313489, 1544.81563489, 1613.44063489, 1699.84688489,\n",
       "       1307.56563489, 1497.44063489, 1352.94063489, 1729.94063489,\n",
       "       1424.25313489, 1512.19063489, 1657.81563489, 1862.69063489,\n",
       "       1566.69063489, 1792.56563489, 1702.87813489, 1784.06563489,\n",
       "       1470.81563489, 1802.69063489, 1419.03438489, 1588.12813489,\n",
       "       1695.94063489, 1539.90938489, 1764.56563489, 1619.47188489,\n",
       "       1551.19063489, 1787.56563489, 1777.00313489, 1585.87813489,\n",
       "       1776.81563489, 1374.44063489, 1686.56563489, 1554.47188489,\n",
       "       1438.06563489, 1626.81563489, 1902.31563489, 1485.81563489,\n",
       "       1476.69063489, 1807.31563489, 1595.81563489, 1860.03438489,\n",
       "       1680.47188489, 1281.90938489, 1726.44063489, 1252.06563489,\n",
       "       1757.94063489, 1441.69063489, 1351.06563489, 1404.22188489,\n",
       "       1475.56563489, 1484.81563489, 1714.31563489, 1449.19063489,\n",
       "       1396.65938489, 1597.69063489, 1424.78438489, 1387.94063489,\n",
       "       1659.19063489, 1535.19063489, 1754.81563489, 1759.65938489])"
      ]
     },
     "execution_count": 25,
     "metadata": {},
     "output_type": "execute_result"
    }
   ],
   "source": [
    "preds[:100]"
   ]
  },
  {
   "cell_type": "code",
   "execution_count": 26,
   "metadata": {},
   "outputs": [
    {
     "data": {
      "text/plain": [
       "RandomForestRegressor()"
      ]
     },
     "execution_count": 26,
     "metadata": {},
     "output_type": "execute_result"
    }
   ],
   "source": [
    "from sklearn.ensemble import RandomForestRegressor\n",
    "model1=RandomForestRegressor()\n",
    "model1.fit(x_train_std,y_train)"
   ]
  },
  {
   "cell_type": "code",
   "execution_count": 27,
   "metadata": {},
   "outputs": [
    {
     "data": {
      "text/plain": [
       "0.9428527877386051"
      ]
     },
     "execution_count": 27,
     "metadata": {},
     "output_type": "execute_result"
    }
   ],
   "source": [
    "model1.score(x_train_std,y_train)"
   ]
  },
  {
   "cell_type": "code",
   "execution_count": 28,
   "metadata": {},
   "outputs": [],
   "source": [
    "preds=model1.predict(x_test_std)"
   ]
  },
  {
   "cell_type": "code",
   "execution_count": 29,
   "metadata": {},
   "outputs": [
    {
     "data": {
      "text/plain": [
       "array([1496.71, 1410.64, 1441.01, 1497.44, 1646.5 , 1588.43, 1666.48,\n",
       "       2168.9 , 1788.  , 1216.25, 1543.65, 1594.04, 1952.47, 1947.85,\n",
       "       1725.72, 1723.02, 1658.72, 1387.95, 1895.56, 1506.98, 1678.39,\n",
       "       1781.12, 1577.47, 1546.81, 1366.1 , 1732.19, 1768.38, 1366.25,\n",
       "       1386.91, 1562.1 , 1718.19, 1544.12, 1708.75, 1682.27, 1564.95,\n",
       "       1537.54, 1467.93, 1654.91, 1366.13, 1497.19, 1958.9 , 1570.97,\n",
       "       1538.06, 1614.14, 1412.54, 1506.83, 1364.14, 1817.54, 1416.6 ,\n",
       "       1476.69, 1723.7 , 1910.24, 1601.86, 1720.68, 1677.29, 1777.35,\n",
       "       2281.44, 1824.55, 1429.22, 1495.01, 1497.91, 1490.8 , 1652.67,\n",
       "       1595.65, 1584.75, 1400.78, 1730.98, 1585.87, 1798.45, 1371.18,\n",
       "       1717.32, 1608.95, 1517.98, 1711.77, 1935.28, 1475.2 , 1496.62,\n",
       "       1898.82, 1555.54, 1931.79, 1930.86, 1451.25, 1642.92, 1091.73,\n",
       "       1814.96, 1435.87, 1355.61, 1480.28, 1569.1 , 1502.92, 1722.58,\n",
       "       1365.14, 1256.21, 1476.02, 1325.67, 1436.9 , 1663.42, 1494.98,\n",
       "       1747.17, 1632.72])"
      ]
     },
     "execution_count": 29,
     "metadata": {},
     "output_type": "execute_result"
    }
   ],
   "source": [
    "preds[:100]"
   ]
  },
  {
   "cell_type": "code",
   "execution_count": 30,
   "metadata": {},
   "outputs": [
    {
     "data": {
      "text/plain": [
       "array([1682, 1221, 1265, 1634, 1727, 1576, 1727, 1962, 1534, 1565, 1633,\n",
       "       1457, 2210, 1962, 2203, 1580, 1653, 1406, 1713, 1678, 1696, 1932,\n",
       "       1612, 1629, 1918, 1686, 2168, 1199, 1015, 1454, 1708, 2264, 1845,\n",
       "       1715, 1862, 1584, 1471, 1576, 1135, 1194, 1990, 1516, 1444, 1661,\n",
       "       1500, 1271, 1370, 1964, 1435, 1730, 1854, 1903, 1522, 1545, 1684,\n",
       "       1696, 2296, 1606, 1410, 1559, 1640, 1425, 1812, 1664, 1370, 1074,\n",
       "       1896, 1511, 1973, 1334, 1703, 1634, 1196, 1637, 1882, 1189, 1460,\n",
       "       1894, 1799, 1838, 2193, 1400, 1422, 1272, 1589, 1434, 1224, 1012,\n",
       "       1302, 1480, 1902, 1370, 1403, 1972, 1152, 1423, 1684, 1003, 1429,\n",
       "       1715], dtype=int64)"
      ]
     },
     "execution_count": 30,
     "metadata": {},
     "output_type": "execute_result"
    }
   ],
   "source": [
    "y_test[:100]"
   ]
  }
 ],
 "metadata": {
  "interpreter": {
   "hash": "ca569846c6542e37007f7d21f91119742cf580acd17cc2bdfe77d836d55225cf"
  },
  "kernelspec": {
   "display_name": "Python 3.9.7 64-bit ('base': conda)",
   "language": "python",
   "name": "python3"
  },
  "language_info": {
   "codemirror_mode": {
    "name": "ipython",
    "version": 3
   },
   "file_extension": ".py",
   "mimetype": "text/x-python",
   "name": "python",
   "nbconvert_exporter": "python",
   "pygments_lexer": "ipython3",
   "version": "3.9.7"
  },
  "orig_nbformat": 4
 },
 "nbformat": 4,
 "nbformat_minor": 2
}
